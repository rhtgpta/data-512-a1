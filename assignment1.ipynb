{
 "cells": [
  {
   "cell_type": "code",
   "execution_count": 1,
   "metadata": {
    "collapsed": true
   },
   "outputs": [],
   "source": [
    "#importing packages\n",
    "import requests\n",
    "import json\n",
    "import pandas as pd\n",
    "from pandas.io.json import json_normalize\n",
    "import matplotlib.pyplot as plt\n",
    "import numpy as np\n",
    "import os"
   ]
  },
  {
   "cell_type": "markdown",
   "metadata": {},
   "source": [
    "# Data Acquisition"
   ]
  },
  {
   "cell_type": "markdown",
   "metadata": {},
   "source": [
    "## Specifying API endpoints to get data for Wikipedia pageviews. The legacy API retired in July 2016, and the more accurate pageviews started from July 2015. \n",
    "### Start Date: January 2008 \n",
    "### End Date: September 2018\n",
    "### Aggregation: Monthly"
   ]
  },
  {
   "cell_type": "code",
   "execution_count": 2,
   "metadata": {
    "collapsed": false
   },
   "outputs": [],
   "source": [
    "# api endpoints for legacy pagecounts and pageviews\n",
    "pagecount_mobile = 'https://wikimedia.org/api/rest_v1/metrics/legacy/pagecounts/aggregate/de.wikipedia.org/mobile-site/monthly/'\n",
    "pagecount_desktop = 'https://wikimedia.org/api/rest_v1/metrics/legacy/pagecounts/aggregate/de.wikipedia.org/desktop-site/monthly/'\n",
    "pageviews_mobile_web = 'https://wikimedia.org/api/rest_v1/metrics/pageviews/aggregate/de.wikipedia.org/mobile-web/user/monthly/'\n",
    "pageviews_mobile_app = 'https://wikimedia.org/api/rest_v1/metrics/pageviews/aggregate/de.wikipedia.org/mobile-app/user/monthly/'\n",
    "pageviews_desktop = 'https://wikimedia.org/api/rest_v1/metrics/pageviews/aggregate/de.wikipedia.org/desktop/user/monthly/'"
   ]
  },
  {
   "cell_type": "code",
   "execution_count": 3,
   "metadata": {
    "collapsed": false
   },
   "outputs": [],
   "source": [
    "# dictionary for all url's of the endpoints\n",
    "dict_url = {\n",
    "        'pagecount_mobile': pagecount_mobile,\n",
    "        'pagecount_desktop': pagecount_desktop,\n",
    "        'pageviews_mobile_web': pageviews_mobile_web,\n",
    "        'pageviews_mobile_app': pageviews_mobile_app,\n",
    "        'pageviews_desktop': pageviews_desktop\n",
    "}"
   ]
  },
  {
   "cell_type": "code",
   "execution_count": 4,
   "metadata": {
    "collapsed": true
   },
   "outputs": [],
   "source": [
    "# timestamp is required in a YYYYMMDDHH format\n",
    "start_ts = '2008010100'\n",
    "end_ts = '2018093000'"
   ]
  },
  {
   "cell_type": "code",
   "execution_count": 5,
   "metadata": {
    "collapsed": true
   },
   "outputs": [],
   "source": [
    "# getting current working directory\n",
    "cwd = os.getcwd()"
   ]
  },
  {
   "cell_type": "code",
   "execution_count": 6,
   "metadata": {
    "collapsed": false
   },
   "outputs": [],
   "source": [
    "# fetching data from the APIs between the specified dates\n",
    "for api_name, api_url in dict_url.items():\n",
    "    try:\n",
    "        result = requests.get(api_url + start_ts + \"/\" + end_ts)\n",
    "        # writing to a file on the disk (and creating one if none exists)\n",
    "        with open(cwd + '/raw_data/' + api_name + '_' + start_ts[:6] + '-' + end_ts[:6] + '.json', 'w') as json_file:\n",
    "            json_file.write(json.dumps(json.loads(result.content.decode('utf-8'))))\n",
    "    # catching exception if hitting url goes awry\n",
    "    except requests.exceptions.RequestException as e:\n",
    "        print (e)"
   ]
  },
  {
   "cell_type": "markdown",
   "metadata": {},
   "source": [
    "# Data Processing"
   ]
  },
  {
   "cell_type": "markdown",
   "metadata": {},
   "source": [
    "### Processing involves flattening the json input to get a tabular structure loaded into a pandas dataframe. An empty pandas dataframe with zero values for all possible year-month values is created to make all the datasets of the same dimension. Views from Pageviews Mobile (Web + App) merged to be Pageviews Mobile.  "
   ]
  },
  {
   "cell_type": "code",
   "execution_count": 7,
   "metadata": {
    "collapsed": true
   },
   "outputs": [],
   "source": [
    "# function to convert json to pandas dataframe\n",
    "def json_to_df(json_file_path):\n",
    "    # reading the json file\n",
    "    df = pd.read_json(cwd + '/raw_data/' + json_file_path)\n",
    "    # flattening the file to make columns\n",
    "    flatten_df = df.join(json_normalize(df[\"items\"].tolist()).\n",
    "                         add_prefix(\"items_\")).drop([\"items\"], axis=1)\n",
    "    # split the timestamp column into seperate year and month columns\n",
    "    flatten_df['year'] = flatten_df['items_timestamp'].apply(lambda x: x[:4])\n",
    "    flatten_df['month'] = flatten_df['items_timestamp'].apply(lambda x: x[4:6])\n",
    "    # rename views/counts to num_views\n",
    "    if 'items_views' in flatten_df.columns:\n",
    "        flatten_df.rename(columns={'items_views': 'num_views'}, inplace=True)\n",
    "    elif 'items_count' in flatten_df.columns:\n",
    "        flatten_df.rename(columns={'items_count': 'num_views'}, inplace=True)\n",
    "    # getting only user views, discarding crawlers for pageviews\n",
    "    if 'items_agent' in flatten_df.columns:\n",
    "        flatten_df = flatten_df.loc[flatten_df['items_agent'] == 'user']\n",
    "    # subsetting the dataframe to get only relevant columns\n",
    "    df = flatten_df[['year', 'month', 'num_views']]\n",
    "    return (df)"
   ]
  },
  {
   "cell_type": "code",
   "execution_count": 8,
   "metadata": {
    "collapsed": false
   },
   "outputs": [],
   "source": [
    "# getting a dataframe with empty year month values\n",
    "\n",
    "# initialize an empty dataframe\n",
    "empty_df = pd.DataFrame()\n",
    "# getting a list of all year values\n",
    "year_list = list(range(2008, 2019))\n",
    "# iterating through year values\n",
    "month_seq = list(range(1, 13))\n",
    "for y in year_list:\n",
    "    data = pd.DataFrame()\n",
    "    data['year'] = [y] * 12\n",
    "    data['month'] = month_seq\n",
    "    # formatting both columns into strings\n",
    "    data['year'] = data['year'].apply(lambda x: str(x))\n",
    "    data['month'] = data['month'].apply(lambda x: format(x, '02d'))\n",
    "    empty_df = empty_df.append(data)\n",
    "\n",
    "# creating an empty num_views column\n",
    "empty_df['num_views'] = 0\n",
    "\n",
    "# removing the last 3 rows (last 3 months of 2018)\n",
    "empty_df = empty_df[:-3]\n",
    "# resetting index\n",
    "empty_df = empty_df.reset_index(drop = True)"
   ]
  },
  {
   "cell_type": "code",
   "execution_count": 9,
   "metadata": {
    "collapsed": false
   },
   "outputs": [],
   "source": [
    "# writing a function to fill the df for the entire length of time\n",
    "def fill_df(in_df):\n",
    "    df = pd.merge(empty_df, in_df, on = ['year', 'month'], how = 'outer')\n",
    "    # replacing NANs\n",
    "    df = df.fillna(0)\n",
    "    # converting the filled value to integer\n",
    "    df['num_views_y'] = df['num_views_y'].apply(lambda x: int(x))\n",
    "    # getting the final values of num_views\n",
    "    df['num_views'] = df['num_views_x'] + df['num_views_y']\n",
    "    # subsetting the dataset\n",
    "    df = df[['year', 'month', 'num_views']]\n",
    "    return (df)"
   ]
  },
  {
   "cell_type": "code",
   "execution_count": 10,
   "metadata": {
    "collapsed": false
   },
   "outputs": [],
   "source": [
    "# load data from pageviews api\n",
    "pageviews_mobile_web = json_to_df('pageviews_mobile_web_200801-201809.json')\n",
    "pageviews_mobile_app = json_to_df('pageviews_mobile_app_200801-201809.json')"
   ]
  },
  {
   "cell_type": "code",
   "execution_count": 11,
   "metadata": {
    "collapsed": true
   },
   "outputs": [],
   "source": [
    "# combining data from the pageviews mobile api\n",
    "# merging the two dataframes \n",
    "pageviews_mobile = pd.merge(pageviews_mobile_web, pageviews_mobile_app, on = ['year','month'])\n",
    "# getting the total mobile views\n",
    "pageviews_mobile['num_views'] = pageviews_mobile['num_views_x'] + pageviews_mobile['num_views_y']\n",
    "# subsetting the dataframe\n",
    "pageviews_mobile = pageviews_mobile[['year', 'month', 'num_views']]"
   ]
  },
  {
   "cell_type": "code",
   "execution_count": 12,
   "metadata": {
    "collapsed": false
   },
   "outputs": [],
   "source": [
    "# getting all other dataframes\n",
    "# pageview desktop\n",
    "pageviews_desktop = json_to_df('pageviews_desktop_200801-201809.json')\n",
    "# pagecount desktop\n",
    "pagecount_desktop = json_to_df('pagecount_desktop_200801-201809.json')\n",
    "# pagecount_mobile\n",
    "pagecount_mobile = json_to_df('pagecount_mobile_200801-201809.json')"
   ]
  },
  {
   "cell_type": "code",
   "execution_count": 13,
   "metadata": {
    "collapsed": true
   },
   "outputs": [],
   "source": [
    "# getting all datasets \"filled\"\n",
    "pageviews_mobile = fill_df(pageviews_mobile)\n",
    "pageviews_desktop = fill_df(pageviews_desktop)\n",
    "pagecount_desktop = fill_df(pagecount_desktop)\n",
    "pagecount_mobile = fill_df(pagecount_mobile)"
   ]
  },
  {
   "cell_type": "code",
   "execution_count": 14,
   "metadata": {
    "collapsed": false
   },
   "outputs": [],
   "source": [
    "# renaming the num_views column\n",
    "pageviews_mobile.rename(columns={'num_views': 'pageview_mobile_views'}, inplace=True)\n",
    "# renaming the num_views column\n",
    "pageviews_desktop.rename(columns={'num_views': 'pageview_desktop_views'}, inplace=True)\n",
    "# renaming the num_views column\n",
    "pagecount_desktop.rename(columns={'num_views': 'pagecount_desktop_views'}, inplace=True)\n",
    "# renaming the num_views column\n",
    "pagecount_mobile.rename(columns={'num_views': 'pagecount_mobile_views'}, inplace=True)"
   ]
  },
  {
   "cell_type": "code",
   "execution_count": 15,
   "metadata": {
    "collapsed": false
   },
   "outputs": [],
   "source": [
    "# concatenating the dataframes\n",
    "frames = [pageviews_mobile, pageviews_desktop, pagecount_desktop, pagecount_mobile]\n",
    "final_df = pd.concat(frames, axis=1)\n",
    "\n",
    "# multiple column names with the same name, make them different\n",
    "col_names = pd.Series(final_df.columns)\n",
    "for dup in final_df.columns.get_duplicates(): \n",
    "    col_names[final_df.columns.get_loc(dup)] = [dup + '.' + str(d_idx) if d_idx != 0 else dup for d_idx in range(final_df.columns.get_loc(dup).sum())]\n",
    "final_df.columns = col_names\n",
    "\n",
    "# subsetting the columns\n",
    "final_df = final_df[['year', 'month', 'pageview_mobile_views', 'pageview_desktop_views',\n",
    "                    'pagecount_desktop_views', 'pagecount_mobile_views']]\n",
    "# creating 2 new columns for totals\n",
    "final_df['pagecount_all_views'] = final_df['pagecount_desktop_views'] + final_df['pagecount_mobile_views']\n",
    "final_df['pageview_all_views'] = final_df['pageview_desktop_views'] + final_df['pageview_mobile_views']"
   ]
  },
  {
   "cell_type": "code",
   "execution_count": 16,
   "metadata": {
    "collapsed": false
   },
   "outputs": [],
   "source": [
    "# saving dataframe to a csv file\n",
    "final_df.to_csv(cwd + '/clean_data/' + 'en-wikipedia_traffic_200801-201709.csv',index=False)"
   ]
  },
  {
   "cell_type": "code",
   "execution_count": 17,
   "metadata": {
    "collapsed": false
   },
   "outputs": [
    {
     "data": {
      "text/html": [
       "<div>\n",
       "<table border=\"1\" class=\"dataframe\">\n",
       "  <thead>\n",
       "    <tr style=\"text-align: right;\">\n",
       "      <th></th>\n",
       "      <th>year</th>\n",
       "      <th>month</th>\n",
       "      <th>pageview_mobile_views</th>\n",
       "      <th>pageview_desktop_views</th>\n",
       "      <th>pagecount_desktop_views</th>\n",
       "      <th>pagecount_mobile_views</th>\n",
       "      <th>pagecount_all_views</th>\n",
       "      <th>pageview_all_views</th>\n",
       "    </tr>\n",
       "  </thead>\n",
       "  <tbody>\n",
       "    <tr>\n",
       "      <th>0</th>\n",
       "      <td>2008</td>\n",
       "      <td>01</td>\n",
       "      <td>0</td>\n",
       "      <td>0</td>\n",
       "      <td>863575077</td>\n",
       "      <td>0</td>\n",
       "      <td>863575077</td>\n",
       "      <td>0</td>\n",
       "    </tr>\n",
       "    <tr>\n",
       "      <th>1</th>\n",
       "      <td>2008</td>\n",
       "      <td>02</td>\n",
       "      <td>0</td>\n",
       "      <td>0</td>\n",
       "      <td>805618770</td>\n",
       "      <td>0</td>\n",
       "      <td>805618770</td>\n",
       "      <td>0</td>\n",
       "    </tr>\n",
       "    <tr>\n",
       "      <th>2</th>\n",
       "      <td>2008</td>\n",
       "      <td>03</td>\n",
       "      <td>0</td>\n",
       "      <td>0</td>\n",
       "      <td>821957233</td>\n",
       "      <td>0</td>\n",
       "      <td>821957233</td>\n",
       "      <td>0</td>\n",
       "    </tr>\n",
       "    <tr>\n",
       "      <th>3</th>\n",
       "      <td>2008</td>\n",
       "      <td>04</td>\n",
       "      <td>0</td>\n",
       "      <td>0</td>\n",
       "      <td>844357513</td>\n",
       "      <td>0</td>\n",
       "      <td>844357513</td>\n",
       "      <td>0</td>\n",
       "    </tr>\n",
       "    <tr>\n",
       "      <th>4</th>\n",
       "      <td>2008</td>\n",
       "      <td>05</td>\n",
       "      <td>0</td>\n",
       "      <td>0</td>\n",
       "      <td>827713709</td>\n",
       "      <td>0</td>\n",
       "      <td>827713709</td>\n",
       "      <td>0</td>\n",
       "    </tr>\n",
       "  </tbody>\n",
       "</table>\n",
       "</div>"
      ],
      "text/plain": [
       "   year month  pageview_mobile_views  pageview_desktop_views  \\\n",
       "0  2008    01                      0                       0   \n",
       "1  2008    02                      0                       0   \n",
       "2  2008    03                      0                       0   \n",
       "3  2008    04                      0                       0   \n",
       "4  2008    05                      0                       0   \n",
       "\n",
       "   pagecount_desktop_views  pagecount_mobile_views  pagecount_all_views  \\\n",
       "0                863575077                       0            863575077   \n",
       "1                805618770                       0            805618770   \n",
       "2                821957233                       0            821957233   \n",
       "3                844357513                       0            844357513   \n",
       "4                827713709                       0            827713709   \n",
       "\n",
       "   pageview_all_views  \n",
       "0                   0  \n",
       "1                   0  \n",
       "2                   0  \n",
       "3                   0  \n",
       "4                   0  "
      ]
     },
     "execution_count": 17,
     "metadata": {},
     "output_type": "execute_result"
    }
   ],
   "source": [
    "# sample header of the final file\n",
    "final_df.head(5)"
   ]
  },
  {
   "cell_type": "markdown",
   "metadata": {},
   "source": [
    "# Data Analysis"
   ]
  },
  {
   "cell_type": "code",
   "execution_count": 18,
   "metadata": {
    "collapsed": false
   },
   "outputs": [],
   "source": [
    "# converting the dataframe series into a time series for plotting\n",
    "# getting the start date for every year+month combination\n",
    "final_df['date'] = final_df['year'] + \"-\" + final_df['month'] + \"-01\"\n",
    "# list of timeseries\n",
    "ts_list = [(final_df['pagecount_all_views'] + final_df['pageview_all_views']).tolist(),\n",
    "          (final_df['pagecount_desktop_views'] + final_df['pageview_desktop_views']).tolist(),\n",
    "          (final_df['pagecount_mobile_views'] + final_df['pageview_mobile_views']).tolist()]\n",
    "# time series for plotting\n",
    "ts_plot = pd.DataFrame(np.array(ts_list).T, \n",
    "                       index = pd.date_range(start = '2008-01-01', end = '2018-10-01', freq = 'M'),\n",
    "                       columns = ['total','main site','mobile site'])"
   ]
  },
  {
   "cell_type": "code",
   "execution_count": 19,
   "metadata": {
    "collapsed": false
   },
   "outputs": [
    {
     "data": {
      "image/png": "[encoded data removed]",
      "text/plain": [
       "<matplotlib.figure.Figure at 0x7f4a751ad198>"
      ]
     },
     "execution_count": 19,
     "metadata": {},
     "output_type": "execute_result"
    }
   ],
   "source": [
    "# plotting the graph\n",
    "axis = ts_plot.plot(title = 'Monthly Page Views on Wikipedia')\n",
    "axis.set_xlabel(\"Year\")\n",
    "axis.set_ylabel(\"Views (in millions)\")\n",
    "fig = axis.get_figure()\n",
    "fig.set_size_inches(16, 9)\n",
    "plt.grid(True)\n",
    "fig"
   ]
  },
  {
   "cell_type": "markdown",
   "metadata": {},
   "source": [
    "### Note: The bump around 2016 is due to the overlapping traffic data from the two different API endpoints."
   ]
  },
  {
   "cell_type": "code",
   "execution_count": 20,
   "metadata": {
    "collapsed": true
   },
   "outputs": [],
   "source": [
    "# saving the plot on the disk\n",
    "plt.savefig(cwd + '/results/' + 'wikipedia_pageviews.png')"
   ]
  }
 ],
 "metadata": {
  "kernelspec": {
   "display_name": "Python 3",
   "language": "python",
   "name": "python3"
  },
  "language_info": {
   "codemirror_mode": {
    "name": "ipython",
    "version": 3
   },
   "file_extension": ".py",
   "mimetype": "text/x-python",
   "name": "python",
   "nbconvert_exporter": "python",
   "pygments_lexer": "ipython3",
   "version": "3.4.5"
  }
 },
 "nbformat": 4,
 "nbformat_minor": 2
}
